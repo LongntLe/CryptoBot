{
 "cells": [
  {
   "cell_type": "code",
   "execution_count": 19,
   "id": "e06079d5",
   "metadata": {},
   "outputs": [],
   "source": [
    "# import packages\n",
    "import pymongo\n",
    "import json\n",
    "import datetime\n",
    "from dateutil.tz import tzutc\n",
    "import pytz\n"
   ]
  },
  {
   "cell_type": "code",
   "execution_count": 2,
   "id": "52cae67c",
   "metadata": {},
   "outputs": [
    {
     "data": {
      "text/plain": [
       "'3.11.4'"
      ]
     },
     "execution_count": 2,
     "metadata": {},
     "output_type": "execute_result"
    }
   ],
   "source": [
    "# get version\n",
    "pymongo.version"
   ]
  },
  {
   "cell_type": "code",
   "execution_count": 10,
   "id": "8bd05df3",
   "metadata": {},
   "outputs": [],
   "source": [
    "# connect to client\n",
    "client = pymongo.MongoClient(\"mongodb+srv://shugmi:<pw>@cluster0.we9tx.mongodb.net/crypto_info?retryWrites=true&w=majority\")"
   ]
  },
  {
   "cell_type": "code",
   "execution_count": 25,
   "id": "3af51b9e",
   "metadata": {},
   "outputs": [
    {
     "name": "stdout",
     "output_type": "stream",
     "text": [
      "14\n"
     ]
    }
   ],
   "source": [
    "# specify db and collection (similar to table)\n",
    "db = client.get_database('crypto_info')\n",
    "states = db.bot_states\n",
    "print(states.count_documents({})) # sanity check: print number of records in collection"
   ]
  },
  {
   "cell_type": "code",
   "execution_count": 20,
   "id": "9813ea9d",
   "metadata": {},
   "outputs": [],
   "source": [
    "# new data\n",
    "d=[{'account': 290373, 'currency': 'XBt', 'riskLimit': 1000000000000, 'prevState': '', 'state': '', 'action': '', 'amount': 1827045, 'pendingCredit': 0, 'pendingDebit': 0, 'confirmedDebit': 0, 'prevRealisedPnl': -37, 'prevUnrealisedPnl': 0, 'grossComm': 259, 'grossOpenCost': 0, 'grossOpenPremium': 0, 'grossExecCost': 0, 'grossMarkValue': 916223, 'riskValue': 916223, 'taxableMargin': 0, 'initMargin': 0, 'maintMargin': 58252, 'sessionMargin': 0, 'targetExcessMargin': 0, 'varMargin': 0, 'realisedPnl': -259, 'unrealisedPnl': 47875, 'indicativeTax': 0, 'unrealisedProfit': 0, 'syntheticMargin': 0, 'walletBalance': 1826786, 'marginBalance': 1874661, 'marginBalancePcnt': 1.0, 'marginLeverage': 0.48874063097274656, 'marginUsedPcnt': 0.0311, 'excessMargin': 1816409, 'excessMarginPcnt': 1.0, 'availableMargin': 1816409, 'withdrawableMargin': 1816409, 'timestamp': datetime.datetime(2021, 4, 18, 5, 31, 0, 894000, tzinfo=tzutc()), 'grossLastValue': 916223, 'commission': 0.0}, {'account': 290373, 'currency': 'XBt', 'riskLimit': 1000000000000, 'prevState': '', 'state': '', 'action': '', 'amount': 1827045, 'pendingCredit': 0, 'pendingDebit': 0, 'confirmedDebit': 0, 'prevRealisedPnl': -37, 'prevUnrealisedPnl': 0, 'grossComm': 259, 'grossOpenCost': 0, 'grossOpenPremium': 0, 'grossExecCost': 0, 'grossMarkValue': 917245, 'riskValue': 917245, 'taxableMargin': 0, 'initMargin': 0, 'maintMargin': 57230, 'sessionMargin': 0, 'targetExcessMargin': 0, 'varMargin': 0, 'realisedPnl': -259, 'unrealisedPnl': 46853, 'indicativeTax': 0, 'unrealisedProfit': 0, 'syntheticMargin': 0, 'walletBalance': 1826786, 'marginBalance': 1873639, 'marginBalancePcnt': 1.0, 'marginLeverage': 0.4895526833077236, 'marginUsedPcnt': 0.0305, 'excessMargin': 1816409, 'excessMarginPcnt': 1.0, 'availableMargin': 1816409, 'withdrawableMargin': 1816409, 'timestamp': datetime.datetime(2021, 4, 18, 5, 31, 45, 894000, tzinfo=tzutc()), 'grossLastValue': 917245, 'commission': 0.0}, {'account': 290373, 'currency': 'XBt', 'riskLimit': 1000000000000, 'prevState': '', 'state': '', 'action': '', 'amount': 1827045, 'pendingCredit': 0, 'pendingDebit': 0, 'confirmedDebit': 0, 'prevRealisedPnl': -37, 'prevUnrealisedPnl': 0, 'grossComm': 259, 'grossOpenCost': 0, 'grossOpenPremium': 0, 'grossExecCost': 0, 'grossMarkValue': 918267, 'riskValue': 918267, 'taxableMargin': 0, 'initMargin': 0, 'maintMargin': 56208, 'sessionMargin': 0, 'targetExcessMargin': 0, 'varMargin': 0, 'realisedPnl': -259, 'unrealisedPnl': 45831, 'indicativeTax': 0, 'unrealisedProfit': 0, 'syntheticMargin': 0, 'walletBalance': 1826786, 'marginBalance': 1872617, 'marginBalancePcnt': 1.0, 'marginLeverage': 0.49036562201453904, 'marginUsedPcnt': 0.03, 'excessMargin': 1816409, 'excessMarginPcnt': 1.0, 'availableMargin': 1816409, 'withdrawableMargin': 1816409, 'timestamp': datetime.datetime(2021, 4, 18, 5, 32, 5, 394000, tzinfo=tzutc()), 'grossLastValue': 918267, 'commission': 0.0}, {'account': 290373, 'currency': 'XBt', 'riskLimit': 1000000000000, 'prevState': '', 'state': '', 'action': '', 'amount': 1827045, 'pendingCredit': 0, 'pendingDebit': 0, 'confirmedDebit': 0, 'prevRealisedPnl': -37, 'prevUnrealisedPnl': 0, 'grossComm': 259, 'grossOpenCost': 0, 'grossOpenPremium': 0, 'grossExecCost': 0, 'grossMarkValue': 920311, 'riskValue': 920311, 'taxableMargin': 0, 'initMargin': 0, 'maintMargin': 54164, 'sessionMargin': 0, 'targetExcessMargin': 0, 'varMargin': 0, 'realisedPnl': -259, 'unrealisedPnl': 43787, 'indicativeTax': 0, 'unrealisedProfit': 0, 'syntheticMargin': 0, 'walletBalance': 1826786, 'marginBalance': 1870573, 'marginBalancePcnt': 1.0, 'marginLeverage': 0.49199416435498644, 'marginUsedPcnt': 0.029, 'excessMargin': 1816409, 'excessMarginPcnt': 1.0, 'availableMargin': 1816409, 'withdrawableMargin': 1816409, 'timestamp': datetime.datetime(2021, 4, 18, 5, 33, 0, 894000, tzinfo=tzutc()), 'grossLastValue': 920311, 'commission': 0.0}, {'account': 290373, 'currency': 'XBt', 'riskLimit': 1000000000000, 'prevState': '', 'state': '', 'action': '', 'amount': 1827045, 'pendingCredit': 0, 'pendingDebit': 0, 'confirmedDebit': 0, 'prevRealisedPnl': -37, 'prevUnrealisedPnl': 0, 'grossComm': 259, 'grossOpenCost': 0, 'grossOpenPremium': 0, 'grossExecCost': 0, 'grossMarkValue': 920311, 'riskValue': 920311, 'taxableMargin': 0, 'initMargin': 0, 'maintMargin': 54164, 'sessionMargin': 0, 'targetExcessMargin': 0, 'varMargin': 0, 'realisedPnl': -259, 'unrealisedPnl': 43787, 'indicativeTax': 0, 'unrealisedProfit': 0, 'syntheticMargin': 0, 'walletBalance': 1826786, 'marginBalance': 1870573, 'marginBalancePcnt': 1.0, 'marginLeverage': 0.49199416435498644, 'marginUsedPcnt': 0.029, 'excessMargin': 1816409, 'excessMarginPcnt': 1.0, 'availableMargin': 1816409, 'withdrawableMargin': 1816409, 'timestamp': datetime.datetime(2021, 4, 18, 5, 33, 0, 894000, tzinfo=tzutc()), 'grossLastValue': 920311, 'commission': 0.0}, {'account': 290373, 'currency': 'XBt', 'riskLimit': 1000000000000, 'prevState': '', 'state': '', 'action': '', 'amount': 1827045, 'pendingCredit': 0, 'pendingDebit': 0, 'confirmedDebit': 0, 'prevRealisedPnl': -37, 'prevUnrealisedPnl': 0, 'grossComm': 259, 'grossOpenCost': 0, 'grossOpenPremium': 0, 'grossExecCost': 0, 'grossMarkValue': 920311, 'riskValue': 920311, 'taxableMargin': 0, 'initMargin': 0, 'maintMargin': 54164, 'sessionMargin': 0, 'targetExcessMargin': 0, 'varMargin': 0, 'realisedPnl': -259, 'unrealisedPnl': 43787, 'indicativeTax': 0, 'unrealisedProfit': 0, 'syntheticMargin': 0, 'walletBalance': 1826786, 'marginBalance': 1870573, 'marginBalancePcnt': 1.0, 'marginLeverage': 0.49199416435498644, 'marginUsedPcnt': 0.029, 'excessMargin': 1816409, 'excessMarginPcnt': 1.0, 'availableMargin': 1816409, 'withdrawableMargin': 1816409, 'timestamp': datetime.datetime(2021, 4, 18, 5, 33, 41, 395000, tzinfo=tzutc()), 'grossLastValue': 920311, 'commission': 0.0}, {'account': 290373, 'currency': 'XBt', 'riskLimit': 1000000000000, 'prevState': '', 'state': '', 'action': '', 'amount': 1827045, 'pendingCredit': 0, 'pendingDebit': 0, 'confirmedDebit': 0, 'prevRealisedPnl': -37, 'prevUnrealisedPnl': 0, 'grossComm': 259, 'grossOpenCost': 0, 'grossOpenPremium': 0, 'grossExecCost': 0, 'grossMarkValue': 920311, 'riskValue': 920311, 'taxableMargin': 0, 'initMargin': 0, 'maintMargin': 54164, 'sessionMargin': 0, 'targetExcessMargin': 0, 'varMargin': 0, 'realisedPnl': -259, 'unrealisedPnl': 43787, 'indicativeTax': 0, 'unrealisedProfit': 0, 'syntheticMargin': 0, 'walletBalance': 1826786, 'marginBalance': 1870573, 'marginBalancePcnt': 1.0, 'marginLeverage': 0.49199416435498644, 'marginUsedPcnt': 0.029, 'excessMargin': 1816409, 'excessMarginPcnt': 1.0, 'availableMargin': 1816409, 'withdrawableMargin': 1816409, 'timestamp': datetime.datetime(2021, 4, 18, 5, 34, 0, 894000, tzinfo=tzutc()), 'grossLastValue': 920311, 'commission': 0.0}, {'account': 290373, 'currency': 'XBt', 'riskLimit': 1000000000000, 'prevState': '', 'state': '', 'action': '', 'amount': 1827045, 'pendingCredit': 0, 'pendingDebit': 0, 'confirmedDebit': 0, 'prevRealisedPnl': -37, 'prevUnrealisedPnl': 0, 'grossComm': 259, 'grossOpenCost': 0, 'grossOpenPremium': 0, 'grossExecCost': 0, 'grossMarkValue': 919289, 'riskValue': 919289, 'taxableMargin': 0, 'initMargin': 0, 'maintMargin': 55186, 'sessionMargin': 0, 'targetExcessMargin': 0, 'varMargin': 0, 'realisedPnl': -259, 'unrealisedPnl': 44809, 'indicativeTax': 0, 'unrealisedProfit': 0, 'syntheticMargin': 0, 'walletBalance': 1826786, 'marginBalance': 1871595, 'marginBalancePcnt': 1.0, 'marginLeverage': 0.4911794485452248, 'marginUsedPcnt': 0.0295, 'excessMargin': 1816409, 'excessMarginPcnt': 1.0, 'availableMargin': 1816409, 'withdrawableMargin': 1816409, 'timestamp': datetime.datetime(2021, 4, 18, 5, 35, 0, 896000, tzinfo=tzutc()), 'grossLastValue': 919289, 'commission': 0.0}, {'account': 290373, 'currency': 'XBt', 'riskLimit': 1000000000000, 'prevState': '', 'state': '', 'action': '', 'amount': 1827045, 'pendingCredit': 0, 'pendingDebit': 0, 'confirmedDebit': 0, 'prevRealisedPnl': -37, 'prevUnrealisedPnl': 0, 'grossComm': 259, 'grossOpenCost': 0, 'grossOpenPremium': 0, 'grossExecCost': 0, 'grossMarkValue': 919800, 'riskValue': 919800, 'taxableMargin': 0, 'initMargin': 0, 'maintMargin': 54675, 'sessionMargin': 0, 'targetExcessMargin': 0, 'varMargin': 0, 'realisedPnl': -259, 'unrealisedPnl': 44298, 'indicativeTax': 0, 'unrealisedProfit': 0, 'syntheticMargin': 0, 'walletBalance': 1826786, 'marginBalance': 1871084, 'marginBalancePcnt': 1.0, 'marginLeverage': 0.4915866951991466, 'marginUsedPcnt': 0.0292, 'excessMargin': 1816409, 'excessMarginPcnt': 1.0, 'availableMargin': 1816409, 'withdrawableMargin': 1816409, 'timestamp': datetime.datetime(2021, 4, 18, 5, 35, 5, 394000, tzinfo=tzutc()), 'grossLastValue': 919800, 'commission': 0.0}, {'account': 290373, 'currency': 'XBt', 'riskLimit': 1000000000000, 'prevState': '', 'state': '', 'action': '', 'amount': 1827045, 'pendingCredit': 0, 'pendingDebit': 0, 'confirmedDebit': 0, 'prevRealisedPnl': -37, 'prevUnrealisedPnl': 0, 'grossComm': 259, 'grossOpenCost': 0, 'grossOpenPremium': 0, 'grossExecCost': 0, 'grossMarkValue': 920822, 'riskValue': 920822, 'taxableMargin': 0, 'initMargin': 0, 'maintMargin': 53653, 'sessionMargin': 0, 'targetExcessMargin': 0, 'varMargin': 0, 'realisedPnl': -259, 'unrealisedPnl': 43276, 'indicativeTax': 0, 'unrealisedProfit': 0, 'syntheticMargin': 0, 'walletBalance': 1826786, 'marginBalance': 1870062, 'marginBalancePcnt': 1.0, 'marginLeverage': 0.4924018561951422, 'marginUsedPcnt': 0.0287, 'excessMargin': 1816409, 'excessMarginPcnt': 1.0, 'availableMargin': 1816409, 'withdrawableMargin': 1816409, 'timestamp': datetime.datetime(2021, 4, 18, 5, 35, 20, 394000, tzinfo=tzutc()), 'grossLastValue': 920822, 'commission': 0.0}, {'account': 290373, 'currency': 'XBt', 'riskLimit': 1000000000000, 'prevState': '', 'state': '', 'action': '', 'amount': 1827045, 'pendingCredit': 0, 'pendingDebit': 0, 'confirmedDebit': 0, 'prevRealisedPnl': -37, 'prevUnrealisedPnl': 0, 'grossComm': 259, 'grossOpenCost': 0, 'grossOpenPremium': 0, 'grossExecCost': 0, 'grossMarkValue': 920822, 'riskValue': 920822, 'taxableMargin': 0, 'initMargin': 0, 'maintMargin': 53653, 'sessionMargin': 0, 'targetExcessMargin': 0, 'varMargin': 0, 'realisedPnl': -259, 'unrealisedPnl': 43276, 'indicativeTax': 0, 'unrealisedProfit': 0, 'syntheticMargin': 0, 'walletBalance': 1826786, 'marginBalance': 1870062, 'marginBalancePcnt': 1.0, 'marginLeverage': 0.4924018561951422, 'marginUsedPcnt': 0.0287, 'excessMargin': 1816409, 'excessMarginPcnt': 1.0, 'availableMargin': 1816409, 'withdrawableMargin': 1816409, 'timestamp': datetime.datetime(2021, 4, 18, 5, 35, 20, 394000, tzinfo=tzutc()), 'grossLastValue': 920822, 'commission': 0.0}, {'account': 290373, 'currency': 'XBt', 'riskLimit': 1000000000000, 'prevState': '', 'state': '', 'action': '', 'amount': 1827045, 'pendingCredit': 0, 'pendingDebit': 0, 'confirmedDebit': 0, 'prevRealisedPnl': -37, 'prevUnrealisedPnl': 0, 'grossComm': 259, 'grossOpenCost': 0, 'grossOpenPremium': 0, 'grossExecCost': 0, 'grossMarkValue': 920822, 'riskValue': 920822, 'taxableMargin': 0, 'initMargin': 0, 'maintMargin': 53653, 'sessionMargin': 0, 'targetExcessMargin': 0, 'varMargin': 0, 'realisedPnl': -259, 'unrealisedPnl': 43276, 'indicativeTax': 0, 'unrealisedProfit': 0, 'syntheticMargin': 0, 'walletBalance': 1826786, 'marginBalance': 1870062, 'marginBalancePcnt': 1.0, 'marginLeverage': 0.4924018561951422, 'marginUsedPcnt': 0.0287, 'excessMargin': 1816409, 'excessMarginPcnt': 1.0, 'availableMargin': 1816409, 'withdrawableMargin': 1816409, 'timestamp': datetime.datetime(2021, 4, 18, 5, 35, 56, 394000, tzinfo=tzutc()), 'grossLastValue': 920822, 'commission': 0.0}, {'account': 290373, 'currency': 'XBt', 'riskLimit': 1000000000000, 'prevState': '', 'state': '', 'action': '', 'amount': 1827045, 'pendingCredit': 0, 'pendingDebit': 0, 'confirmedDebit': 0, 'prevRealisedPnl': -37, 'prevUnrealisedPnl': 0, 'grossComm': 259, 'grossOpenCost': 0, 'grossOpenPremium': 0, 'grossExecCost': 0, 'grossMarkValue': 923377, 'riskValue': 923377, 'taxableMargin': 0, 'initMargin': 0, 'maintMargin': 51098, 'sessionMargin': 0, 'targetExcessMargin': 0, 'varMargin': 0, 'realisedPnl': -259, 'unrealisedPnl': 40721, 'indicativeTax': 0, 'unrealisedProfit': 0, 'syntheticMargin': 0, 'walletBalance': 1826786, 'marginBalance': 1867507, 'marginBalancePcnt': 1.0, 'marginLeverage': 0.49444366205856255, 'marginUsedPcnt': 0.0274, 'excessMargin': 1816409, 'excessMarginPcnt': 1.0, 'availableMargin': 1816409, 'withdrawableMargin': 1816409, 'timestamp': datetime.datetime(2021, 4, 18, 5, 36, 56, 395000, tzinfo=tzutc()), 'grossLastValue': 923377, 'commission': 0.0}, {'account': 290373, 'currency': 'XBt', 'riskLimit': 1000000000000, 'prevState': '', 'state': '', 'action': '', 'amount': 1827045, 'pendingCredit': 0, 'pendingDebit': 0, 'confirmedDebit': 0, 'prevRealisedPnl': -37, 'prevUnrealisedPnl': 0, 'grossComm': 259, 'grossOpenCost': 0, 'grossOpenPremium': 0, 'grossExecCost': 0, 'grossMarkValue': 923377, 'riskValue': 923377, 'taxableMargin': 0, 'initMargin': 0, 'maintMargin': 51098, 'sessionMargin': 0, 'targetExcessMargin': 0, 'varMargin': 0, 'realisedPnl': -259, 'unrealisedPnl': 40721, 'indicativeTax': 0, 'unrealisedProfit': 0, 'syntheticMargin': 0, 'walletBalance': 1826786, 'marginBalance': 1867507, 'marginBalancePcnt': 1.0, 'marginLeverage': 0.49444366205856255, 'marginUsedPcnt': 0.0274, 'excessMargin': 1816409, 'excessMarginPcnt': 1.0, 'availableMargin': 1816409, 'withdrawableMargin': 1816409, 'timestamp': datetime.datetime(2021, 4, 18, 5, 36, 56, 395000, tzinfo=tzutc()), 'grossLastValue': 923377, 'commission': 0.0}]\n",
    "states.insert_many(d)"
   ]
  },
  {
   "cell_type": "code",
   "execution_count": 24,
   "id": "e004d571",
   "metadata": {},
   "outputs": [
    {
     "data": {
      "text/plain": [
       "True"
      ]
     },
     "execution_count": 24,
     "metadata": {},
     "output_type": "execute_result"
    }
   ],
   "source": [
    "# get number of records in collection now\n",
    "len(list(states.find()))"
   ]
  },
  {
   "cell_type": "code",
   "execution_count": null,
   "id": "ea1c4a0d",
   "metadata": {},
   "outputs": [],
   "source": []
  }
 ],
 "metadata": {
  "kernelspec": {
   "display_name": "Python 3",
   "language": "python",
   "name": "python3"
  },
  "language_info": {
   "codemirror_mode": {
    "name": "ipython",
    "version": 3
   },
   "file_extension": ".py",
   "mimetype": "text/x-python",
   "name": "python",
   "nbconvert_exporter": "python",
   "pygments_lexer": "ipython3",
   "version": "3.8.5"
  }
 },
 "nbformat": 4,
 "nbformat_minor": 5
}
